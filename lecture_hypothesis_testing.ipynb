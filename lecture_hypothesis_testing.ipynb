{
 "cells": [
  {
   "cell_type": "code",
   "execution_count": 41,
   "metadata": {},
   "outputs": [],
   "source": [
    "import matplotlib.pyplot as plt\n",
    "import numpy as np\n",
    "import pandas as pd\n",
    "import math"
   ]
  },
  {
   "cell_type": "markdown",
   "metadata": {},
   "source": [
    "## Central Limit Theorem\n",
    "The central limit theorem tells us that the sampling distribution for a random variable is normally distributed, even if the underlying random variable is not.\n",
    "\n",
    "Let's take the example of rolling a dice. We know that rolling a die is a random process, but imagine an experiment where we roll 10 dice and take the average roll. If we performed this experiment many times and plotted the resulting calculated averages of 10 dice rolls, we would expect to see a normal distribution."
   ]
  },
  {
   "cell_type": "code",
   "execution_count": 36,
   "metadata": {},
   "outputs": [
    {
     "data": {
      "text/plain": [
       "(array([3.00000e+00, 4.80000e+01, 2.70000e+02, 1.16800e+03, 3.96500e+03,\n",
       "        1.05950e+04, 9.62000e+03, 3.29910e+04, 5.79050e+04, 8.85860e+04,\n",
       "        1.18251e+05, 1.40183e+05, 7.25620e+04, 1.39623e+05, 1.18791e+05,\n",
       "        8.87410e+04, 5.84680e+04, 3.28920e+04, 9.50400e+03, 1.04590e+04,\n",
       "        3.83100e+03, 1.21600e+03, 2.77000e+02, 4.30000e+01, 8.00000e+00]),\n",
       " array([1.2  , 1.384, 1.568, 1.752, 1.936, 2.12 , 2.304, 2.488, 2.672,\n",
       "        2.856, 3.04 , 3.224, 3.408, 3.592, 3.776, 3.96 , 4.144, 4.328,\n",
       "        4.512, 4.696, 4.88 , 5.064, 5.248, 5.432, 5.616, 5.8  ]),\n",
       " <a list of 25 Patch objects>)"
      ]
     },
     "execution_count": 36,
     "metadata": {},
     "output_type": "execute_result"
    },
    {
     "data": {
      "image/png": "[encoded data removed]",
      "text/plain": [
       "<Figure size 432x288 with 1 Axes>"
      ]
     },
     "metadata": {
      "needs_background": "light"
     },
     "output_type": "display_data"
    }
   ],
   "source": [
    "avg_roll = np.random.choice(range(1,7), (1_000_000,10)).mean(axis = 1)\n",
    "plt.hist(avg_roll, bins = 25)"
   ]
  },
  {
   "cell_type": "markdown",
   "metadata": {},
   "source": [
    "## Null Hypothesis\n",
    "we're going to test our null hypothesis that the average roll will be 3.5 and attempt to reject our null \n",
    "(h<sub>0</sub>: u == 3.5)\n",
    "(h<sub>a</sub>: u != 3.5)"
   ]
  },
  {
   "cell_type": "code",
   "execution_count": 37,
   "metadata": {},
   "outputs": [
    {
     "data": {
      "text/plain": [
       "array([5, 2, 4, 4, 5, 2, 1, 2, 3, 3, 1, 5, 1, 5, 1])"
      ]
     },
     "execution_count": 37,
     "metadata": {},
     "output_type": "execute_result"
    }
   ],
   "source": [
    "np.random.seed(7)\n",
    "n = 15\n",
    "rolls = np.random.choice([1,2,3,4,5,6], n)\n",
    "rolls"
   ]
  },
  {
   "cell_type": "code",
   "execution_count": 38,
   "metadata": {},
   "outputs": [
    {
     "data": {
      "text/plain": [
       "2.933333333333333"
      ]
     },
     "execution_count": 38,
     "metadata": {},
     "output_type": "execute_result"
    }
   ],
   "source": [
    "rolls.mean()"
   ]
  },
  {
   "cell_type": "code",
   "execution_count": 39,
   "metadata": {},
   "outputs": [
    {
     "data": {
      "text/plain": [
       "1.569146972791976"
      ]
     },
     "execution_count": 39,
     "metadata": {},
     "output_type": "execute_result"
    }
   ],
   "source": [
    "rolls.std()"
   ]
  },
  {
   "cell_type": "code",
   "execution_count": 43,
   "metadata": {},
   "outputs": [
    {
     "data": {
      "text/plain": [
       "-1.3986520070493254"
      ]
     },
     "execution_count": 43,
     "metadata": {},
     "output_type": "execute_result"
    }
   ],
   "source": [
    "t = (rolls.mean()-3.5)/(rolls.std()/math.sqrt(n))\n",
    "t"
   ]
  },
  {
   "cell_type": "code",
   "execution_count": 45,
   "metadata": {},
   "outputs": [
    {
     "data": {
      "text/plain": [
       "0.18367838344198753"
      ]
     },
     "execution_count": 45,
     "metadata": {},
     "output_type": "execute_result"
    }
   ],
   "source": [
    "from scipy import stats\n",
    "stats.t(n-1).cdf(t) * 2"
   ]
  },
  {
   "cell_type": "code",
   "execution_count": null,
   "metadata": {},
   "outputs": [],
   "source": []
  }
 ],
 "metadata": {
  "kernelspec": {
   "display_name": "Python 3",
   "language": "python",
   "name": "python3"
  },
  "language_info": {
   "codemirror_mode": {
    "name": "ipython",
    "version": 3
   },
   "file_extension": ".py",
   "mimetype": "text/x-python",
   "name": "python",
   "nbconvert_exporter": "python",
   "pygments_lexer": "ipython3",
   "version": "3.7.3"
  }
 },
 "nbformat": 4,
 "nbformat_minor": 2
}
