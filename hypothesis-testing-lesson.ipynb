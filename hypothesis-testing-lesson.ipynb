{
 "cells": [
  {
   "cell_type": "code",
   "execution_count": 1,
   "metadata": {},
   "outputs": [],
   "source": [
    "import math\n",
    "\n",
    "import numpy as np\n",
    "import pandas as pd\n",
    "import matplotlib.pyplot as plt\n",
    "\n",
    "from scipy import stats\n",
    "from ipywidgets import interact"
   ]
  },
  {
   "cell_type": "markdown",
   "metadata": {},
   "source": [
    "## Golden Codys\n",
    "\n",
    "- 1 / 4 chance to win\n",
    "- 1000 tickets"
   ]
  },
  {
   "cell_type": "code",
   "execution_count": 2,
   "metadata": {},
   "outputs": [
    {
     "data": {
      "text/plain": [
       "([<matplotlib.axis.XTick at 0x1a1db289d0>,\n",
       "  <matplotlib.axis.XTick at 0x1a1db28050>],\n",
       " <a list of 2 Text xticklabel objects>)"
      ]
     },
     "execution_count": 2,
     "metadata": {},
     "output_type": "execute_result"
    },
    {
     "data": {
      "image/png": "[encoded data removed]",
      "text/plain": [
       "<Figure size 432x288 with 1 Axes>"
      ]
     },
     "metadata": {
      "needs_background": "light"
     },
     "output_type": "display_data"
    }
   ],
   "source": [
    "tickets = pd.Series([True] * 250 + [False] * 750)\n",
    "tickets.value_counts(normalize=True).plot.bar()\n",
    "plt.xticks([0, 1], ['Lose', 'Win'], rotation=0)"
   ]
  },
  {
   "cell_type": "markdown",
   "metadata": {},
   "source": [
    "We give everyone in a class a ticket"
   ]
  },
  {
   "cell_type": "code",
   "execution_count": 3,
   "metadata": {},
   "outputs": [
    {
     "data": {
      "text/plain": [
       "0.15"
      ]
     },
     "execution_count": 3,
     "metadata": {},
     "output_type": "execute_result"
    }
   ],
   "source": [
    "n = 40\n",
    "tickets.sample(n).mean()"
   ]
  },
  {
   "cell_type": "markdown",
   "metadata": {},
   "source": [
    "Sampling Errors\n",
    "\n",
    "- non-response\n",
    "- undercoverage\n",
    "- voluntary\n",
    "- leading questions\n",
    "- social desireability"
   ]
  },
  {
   "cell_type": "code",
   "execution_count": 4,
   "metadata": {},
   "outputs": [],
   "source": [
    "winrates = []\n",
    "\n",
    "for i in range(10_000):\n",
    "    winrate = tickets.sample(n).mean()\n",
    "    winrates.append(winrate)"
   ]
  },
  {
   "cell_type": "markdown",
   "metadata": {},
   "source": [
    "Central Limit Theorem: The **sampling distribution** is normally distributed even when the underlying random variable is not.\n",
    "\n",
    "- the average of the sampling distribution ~ the population average\n",
    "- the variance of the sampling distribution is the variance of the population divided by the sample size\n",
    "- the standard deviation of the sampling distribution is ~ population standard deviation / $\\sqrt{n}$\n",
    "- the **standard error** == standard deviation of the sampling distribution"
   ]
  },
  {
   "cell_type": "code",
   "execution_count": 5,
   "metadata": {
    "scrolled": false
   },
   "outputs": [
    {
     "data": {
      "text/plain": [
       "<matplotlib.axes._subplots.AxesSubplot at 0x1a1dbe34d0>"
      ]
     },
     "execution_count": 5,
     "metadata": {},
     "output_type": "execute_result"
    },
    {
     "data": {
      "image/png": "[encoded data removed]",
      "text/plain": [
       "<Figure size 1152x648 with 1 Axes>"
      ]
     },
     "metadata": {
      "needs_background": "light"
     },
     "output_type": "display_data"
    }
   ],
   "source": [
    "pd.Series(winrates).plot.hist(bins=15, figsize=(16, 9))"
   ]
  },
  {
   "cell_type": "markdown",
   "metadata": {},
   "source": [
    "## Mini Exercise - CLT\n",
    "\n",
    "1. Calculate, theoretically (in your head is fine), the expected value for the average of 6 dice rolls.\n",
    "1. Write the code necessary to simulate taking the average of 6 dice rolls 10,000 times. Store each of the 10,000 averages in a list.\n",
    "1. Plot the distribution of the calculated averages. What do you notice? What kind of distribution is the underlying random variable (i.e. one dice roll?)"
   ]
  },
  {
   "cell_type": "code",
   "execution_count": 6,
   "metadata": {},
   "outputs": [
    {
     "data": {
      "application/vnd.jupyter.widget-view+json": {
       "model_id": "ddef96822c5449bab45c4913b22aa555",
       "version_major": 2,
       "version_minor": 0
      },
      "text/plain": [
       "interactive(children=(IntSlider(value=25, description='n_dice', max=50, min=1, step=2), Output()), _dom_classe…"
      ]
     },
     "metadata": {},
     "output_type": "display_data"
    },
    {
     "data": {
      "text/plain": [
       "<function __main__.plot_dice_rolls(n_dice)>"
      ]
     },
     "execution_count": 6,
     "metadata": {},
     "output_type": "execute_result"
    }
   ],
   "source": [
    "def plot_dice_rolls(n_dice):\n",
    "    n_sims = 10_000\n",
    "    rolls = np.random.choice(range(1, 7), (n_sims, n_dice))\n",
    "\n",
    "    plt.figure(figsize=(10, 7))\n",
    "    plt.hist(rolls.mean(axis=1), density=True) # density=True gives us a %\n",
    "    plt.title(f'Average of {n_dice} dice rolls based on {n_sims:,} simulations')\n",
    "    plt.xlim(0, 7)\n",
    "    plt.ylabel('% of times we get this value')\n",
    "    plt.xlabel('Average')\n",
    "\n",
    "    plt.show()\n",
    "\n",
    "interact(plot_dice_rolls, n_dice=(1, 50, 2))"
   ]
  },
  {
   "cell_type": "markdown",
   "metadata": {},
   "source": [
    "## Hypothesis Testing"
   ]
  },
  {
   "cell_type": "markdown",
   "metadata": {},
   "source": [
    "- **alpha**: $\\alpha$: 1 - confidence level (95% confidence level -> $\\alpha = .05$)\n",
    "- **null hypothesis**: $H_0$: the \"status quo\"\n",
    "- **alterternative hyopthesis**: $H_a$: the opposite; alternative\n",
    "\n",
    "We either *reject* or *fail to reject* the null hypothesis"
   ]
  },
  {
   "cell_type": "markdown",
   "metadata": {},
   "source": [
    "One of the webdev cohorts finds they have a winrate of 20%. They claim that they were cheated! and the tickets were distributed unfairly."
   ]
  },
  {
   "cell_type": "code",
   "execution_count": 7,
   "metadata": {},
   "outputs": [],
   "source": [
    "winrates = pd.Series(winrates)"
   ]
  },
  {
   "cell_type": "markdown",
   "metadata": {},
   "source": [
    "What's the likelihood we see a 20% or less winrate (w/ 40 students) given that the true winrate is 25%?\n",
    "\n",
    "- $H_0$: the winrate for this webdev class is the same as the overall winrate\n",
    "- $H_a$: the winrate the this webdev class is less than the overall winrate"
   ]
  },
  {
   "cell_type": "code",
   "execution_count": 8,
   "metadata": {},
   "outputs": [
    {
     "data": {
      "text/plain": [
       "0.3015"
      ]
     },
     "execution_count": 8,
     "metadata": {},
     "output_type": "execute_result"
    }
   ],
   "source": [
    "(winrates <= .2).mean()"
   ]
  },
  {
   "cell_type": "markdown",
   "metadata": {},
   "source": [
    "There's a 30% chance we'd see a winrate of 20% *or less* knowing that the overall winrate is 25%."
   ]
  },
  {
   "cell_type": "code",
   "execution_count": 9,
   "metadata": {},
   "outputs": [
    {
     "data": {
      "text/plain": [
       "0.23221702414320272"
      ]
     },
     "execution_count": 9,
     "metadata": {},
     "output_type": "execute_result"
    }
   ],
   "source": [
    "stats.norm(winrates.mean(), winrates.std()).cdf(.2)"
   ]
  },
  {
   "cell_type": "markdown",
   "metadata": {},
   "source": [
    "**p-value**\n",
    "\n",
    "- P(data|$H_0$)\n",
    "- The likelihood the we see the evidence at hand under the null hypothesis\n",
    "- If the null hypothesis is true, the likelihood of observing our data\n",
    "\n",
    "if $p < \\alpha$: we reject $H_0$\n",
    "\n",
    "if $p >= \\alpha$: we fail to reject $H_0$"
   ]
  },
  {
   "cell_type": "markdown",
   "metadata": {},
   "source": [
    "CL = 95% -> alpha == .05\n",
    "\n",
    "p = .29\n",
    "\n",
    "Because p >= alpha, we fail to reject $H_0$: the winrate for this webdev class is the same as the overall winrate"
   ]
  },
  {
   "cell_type": "markdown",
   "metadata": {},
   "source": [
    "What's the likelihood we see a 20% winrate (w/ 25 students) or something more extreme? given that the true winrate is 25%"
   ]
  },
  {
   "cell_type": "code",
   "execution_count": 10,
   "metadata": {},
   "outputs": [
    {
     "data": {
      "text/plain": [
       "0.4586604004453259"
      ]
     },
     "execution_count": 10,
     "metadata": {},
     "output_type": "execute_result"
    }
   ],
   "source": [
    "stats.norm(winrates.mean(), winrates.std()).cdf(.2) + stats.norm(winrates.mean(), winrates.std()).sf(.2999999999999)"
   ]
  },
  {
   "cell_type": "markdown",
   "metadata": {},
   "source": [
    "There's a 57% chance that we'd see a winrate of 20% or something more extreme (in either direction), purely due to the nature of sampling from a population.\n",
    "\n",
    "---"
   ]
  },
  {
   "cell_type": "markdown",
   "metadata": {},
   "source": [
    "A data science class calculates their win rate at 40%. The web dev students immediately accuse the person distributing the tickets of favoritism.\n",
    "\n",
    "How likely is it that we see a 40% winrate (or something more extreme) purely due chance, given the actual winrate is 25%?"
   ]
  },
  {
   "cell_type": "code",
   "execution_count": 11,
   "metadata": {},
   "outputs": [
    {
     "data": {
      "text/plain": [
       "0.026204778088842605"
      ]
     },
     "execution_count": 11,
     "metadata": {},
     "output_type": "execute_result"
    }
   ],
   "source": [
    "winrate_distribution = stats.norm(winrates.mean(), winrates.std())\n",
    "\n",
    "winrate_distribution.sf(.4) + winrate_distribution.cdf(.1)"
   ]
  },
  {
   "cell_type": "code",
   "execution_count": 12,
   "metadata": {},
   "outputs": [
    {
     "data": {
      "text/plain": [
       "0.02684657987700769"
      ]
     },
     "execution_count": 12,
     "metadata": {},
     "output_type": "execute_result"
    }
   ],
   "source": [
    "winrate_distribution.cdf(.1) * 2"
   ]
  },
  {
   "cell_type": "markdown",
   "metadata": {},
   "source": [
    "- Are the average grades in web development vs data science classes different?\n",
    "\n",
    "    $H_0$: The average grades for webdev and data science are the same.\n",
    "    \n",
    "    $H_a$: The average grades for webdev and data science are not the same.\n",
    "    \n",
    "    $H_a$: The average grades for webdev students are lower than those for data science students.\n",
    "\n",
    "- Is there a relationship between how early a student shows up to class and their grade?\n",
    "\n",
    "    $H_0$: there is no relationship between how early a student comes to class and their grade\n",
    "    \n",
    "    $H_a$: students that show up to class earlier have higher grades\n",
    "\n",
    "- Are web dev or data science students more likely to be coffee drinkers?\n",
    "\n",
    "    $H_0$: Which cohort a student is in is independent of whether or not they drink coffee\n",
    "\n",
    "    $H_0$: Web dev and data science students are equally likely to be coffee drinkers\n",
    "    \n",
    "    $H_a$: Data science students are more likely to be coffee drinkers"
   ]
  },
  {
   "cell_type": "markdown",
   "metadata": {},
   "source": [
    "- **two-tailed**: $H_0$ is formulated as $\\neq$\n",
    "- **one-tailed**: $H_0$ is formulated as < or >"
   ]
  },
  {
   "cell_type": "markdown",
   "metadata": {},
   "source": [
    "### Hypothesis Testing Results\n",
    "\n",
    "$H_0$: data science students' grades are the same as the overall average\n",
    "\n",
    "$H_a$: data science students' grades are greater than the overall average\n",
    "\n",
    "|                      | $H_0$ is true | $H_0$ is false |\n",
    "| -------------------  | ------------- | -------------- |\n",
    "| Fail to reject $H_0$ | TN            | FN (Type II)   |\n",
    "| Reject $H_0$         | FP (Type I)   | TP             |"
   ]
  },
  {
   "cell_type": "markdown",
   "metadata": {},
   "source": [
    "## Examples\n",
    "\n",
    "- 99% confident\n",
    "- $\\alpha = 1 - .99 = .01$\n",
    "- p: P(data|$H_0$)\n",
    "- $p < \\alpha$ -> reject $H_0$\n",
    "- $p >= \\alpha$ -> fail to reject $H_0$"
   ]
  },
  {
   "cell_type": "markdown",
   "metadata": {},
   "source": [
    "> Are the plants helping?\n",
    "\n",
    "- survey scores\n",
    "    - $H_0$: Survey scores before and after plants were introduced are no different.\n",
    "    - $H_a$: Survey scores improved after plants were introduced in the classroom.\n",
    "- conversion rate of in-person tours before/after plants\n",
    "- number of tardies\n",
    "- grades\n",
    "- engagement on social with plant pictures"
   ]
  },
  {
   "cell_type": "markdown",
   "metadata": {},
   "source": [
    "- $H_0$: Survey scores before and after plants were introduced are no different.\n",
    "- $H_a$: Survey scores improved after plants were introduced in the classroom."
   ]
  },
  {
   "cell_type": "markdown",
   "metadata": {},
   "source": [
    "- True Positive\n",
    "    - small p-value -- < alpha (.001)\n",
    "    - reject $H_0$\n",
    "    - avg survey score before plants: 3.2\n",
    "    - avg survey score after plants: 4.5\n",
    "- False Positive\n",
    "    - small p-value\n",
    "    - reject $H_0$\n",
    "    - we cancelled a quiz right before everyone took the surveys\n",
    "- True Negative\n",
    "    - higher p-value\n",
    "    - fail to reject $H_0$\n",
    "    - avg survey score before plants: 3.9\n",
    "    - avg survey score after plants: 4.1\n",
    "- False Negative\n",
    "    - higher p-value\n",
    "    - fail to reject $H_0$\n",
    "    - avg survey score before plants: 3.5\n",
    "    - avg survey score after plants: 3.3\n",
    "    - everyone took the survey when they were in the middle of the tableau project"
   ]
  },
  {
   "cell_type": "markdown",
   "metadata": {},
   "source": [
    "---\n",
    "\n",
    "> Do houses with even street numbers sell for more money?\n",
    "\n",
    "Data Sources:\n",
    "\n",
    "- zillow data\n",
    "- realty trac\n",
    "- MLS\n",
    "- Compass orientation of houses\n",
    "- Online Tax Records\n",
    "    - tax-assessed property value"
   ]
  },
  {
   "cell_type": "markdown",
   "metadata": {},
   "source": [
    "- $H_0$: the property values for even numbered houses are the same as the overall average property value\n",
    "- $H_a$: the property values for even numberd houses are higher than the overall average property value"
   ]
  },
  {
   "cell_type": "markdown",
   "metadata": {},
   "source": [
    "- True Positive\n",
    "    - low p-value\n",
    "    - reject $H_0$\n",
    "    - avg property value for even # houses -> \\$200,000\n",
    "    - avg property value overall -> \\$150,000\n",
    "- False Positive\n",
    "    - low p-value\n",
    "    - reject $H_0$\n",
    "    - a significant difference in property values\n",
    "    - we found the overall average property value from the county website\n",
    "    - we calculated the average property value for even # houses based on sampling the dominion\n",
    "- False Negative\n",
    "    - fail to reject $H_0$\n",
    "    - high p-value\n",
    "    - the average house price for even numbered houses is not higher than the overall average\n",
    "    - for example: response bias on an online survey\n",
    "- True Negative\n",
    "    - high p-value\n",
    "    - fail to reject $H_0$\n",
    "    - avg price for even # houses: \\$145,000\n",
    "    - overall avg house price: \\$140,000"
   ]
  },
  {
   "cell_type": "markdown",
   "metadata": {},
   "source": [
    "## Exercise Review"
   ]
  },
  {
   "cell_type": "markdown",
   "metadata": {},
   "source": [
    "2 x 2 categories\n",
    "\n",
    "- False / True: Whether we concluded the right thing\n",
    "- Positive / Negative: Whether we concluded there is something (+) or there isn't something hapenning (-)"
   ]
  },
  {
   "cell_type": "markdown",
   "metadata": {},
   "source": [
    "> Has the network latency gone up since we switched ISPs?\n",
    "\n",
    "- $H_0$: the network latency is the same since the ISP switch.\n",
    "- $H_a$: the new ISP has higher latency\n",
    "- True Positive: We reject $H_0$, our latency is ~ 300ms on average with the new ISP, it was ~50ms\n",
    "- False Positive: We reject $H_0$, our data says the latency is higher; our data is biased, we took recordings between 6pm and 8pm when everyone is streaming media\n",
    "- False Negative: We fail to reject $H_0$: we took recordings between 6am and 7am when no one is on the network\n",
    "- True Negative: Our data says there isn't much difference in latency, we fail to reject $H_0$"
   ]
  },
  {
   "cell_type": "markdown",
   "metadata": {},
   "source": [
    "> Is the website redesign any good?\n",
    "\n",
    "- $H_0$: the number of click throughs since the site redesign hasn't changed\n",
    "- $H_a$: there are more click throughs since the site redesign\n",
    "- TP: reject $H_0$, we conclude that the redesign helped, and it really did\n",
    "- FP: reject $H_0$, we conclude that the redesign helped, but really it didn't; we only showed the new website to previously engaged customers\n",
    "- FN: fail to reject $H_0$, we conclude the redesign did not help, but really it did; we only showed the new website to people who provided negative feedback\n",
    "- TN: fail to reject $H_0$, we conclude the redesign did not help, and it really didn't"
   ]
  },
  {
   "cell_type": "markdown",
   "metadata": {},
   "source": [
    "> Is our TV ad driving more sales?\n",
    "\n",
    "We're frito-lay advertising cool ranch doritos.\n",
    "\n",
    "- $H_0$: Cool ranch doritos don't sell any better when we're running an advertisement\n",
    "- $H_a$: Sales for cool ranch doritos increase when we're running an ad\n",
    "- FP: reject $H_0$; we conclude that the advertisement helped sales, but really it didn't\n",
    "- FN: fail to reject $H_0$; we conclude that the ad did not help, but really it did\n",
    "- TP: reject $H_0$; we conclude that the ad helped, and it did\n",
    "- TN: fail to reject $H_0$: we conclude the ad did not boost sales, and really it didn't\n",
    "\n",
    "> suppose we a production issue while the ad is running -- there's not enough product to sell, sales are low\n",
    "\n",
    "- FN: conclude that the ad didn't help, but really it did, we just didn't have enough inventory\n",
    "\n",
    "> suppose there's a global pandemic, and everyone is staying inside while the ad is running. There's increased sales of cool ranch doritos.\n",
    "\n",
    "- FP: conclude that the ad helped, when really it didn't"
   ]
  }
 ],
 "metadata": {
  "kernelspec": {
   "display_name": "Python 3",
   "language": "python",
   "name": "python3"
  },
  "language_info": {
   "codemirror_mode": {
    "name": "ipython",
    "version": 3
   },
   "file_extension": ".py",
   "mimetype": "text/x-python",
   "name": "python",
   "nbconvert_exporter": "python",
   "pygments_lexer": "ipython3",
   "version": "3.7.4"
  }
 },
 "nbformat": 4,
 "nbformat_minor": 2
}
